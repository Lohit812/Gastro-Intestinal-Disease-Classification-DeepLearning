{
  "cells": [
    {
      "cell_type": "code",
      "execution_count": null,
      "metadata": {
        "id": "upTGt8j-OXRc"
      },
      "outputs": [],
      "source": [
        "import os\n",
        "import random\n",
        "import numpy as np\n",
        "import tensorflow as tf\n",
        "from tensorflow.keras.preprocessing.image import ImageDataGenerator\n",
        "import pandas as pd\n",
        "import matplotlib.pyplot as plt"
      ]
    },
    {
      "cell_type": "code",
      "execution_count": null,
      "metadata": {
        "id": "hN2-qbilO0pE"
      },
      "outputs": [],
      "source": [
        "train = '/content/drive/MyDrive/Colab Notebooks/output/train'\n",
        "test = '/content/drive/MyDrive/Colab Notebooks/output/test'\n",
        "val = '/content/drive/MyDrive/Colab Notebooks/output/val'"
      ]
    },
    {
      "cell_type": "code",
      "execution_count": null,
      "metadata": {
        "id": "78o3-IthPNqb"
      },
      "outputs": [],
      "source": [
        "from tensorflow.keras.preprocessing.image import ImageDataGenerator\n",
        "image_shape = (224,224,3)\n",
        "image_gen = ImageDataGenerator(rotation_range=20,\n",
        "                               rescale=1/255,\n",
        "                               horizontal_flip=True,\n",
        "                               fill_mode='nearest'\n",
        "                              )\n"
      ]
    },
    {
      "cell_type": "code",
      "execution_count": null,
      "metadata": {
        "colab": {
          "base_uri": "https://localhost:8080/"
        },
        "id": "79h9g3yTPPCi",
        "outputId": "5b48c2d0-98cb-4584-c2c1-3c5bc30d4099"
      },
      "outputs": [
        {
          "name": "stdout",
          "output_type": "stream",
          "text": [
            "Found 5152 images belonging to 8 classes.\n",
            "Found 644 images belonging to 8 classes.\n",
            "Found 644 images belonging to 8 classes.\n"
          ]
        },
        {
          "data": {
            "text/plain": [
              "<keras.src.preprocessing.image.DirectoryIterator at 0x7cc48c305960>"
            ]
          },
          "execution_count": 4,
          "metadata": {},
          "output_type": "execute_result"
        }
      ],
      "source": [
        "image_gen.flow_from_directory(train)\n",
        "image_gen.flow_from_directory(test)\n",
        "image_gen.flow_from_directory(val)"
      ]
    },
    {
      "cell_type": "code",
      "execution_count": null,
      "metadata": {
        "colab": {
          "base_uri": "https://localhost:8080/"
        },
        "id": "g4YNe57CPTge",
        "outputId": "fdd7616f-ddc9-4559-c95a-2b47e98492a8"
      },
      "outputs": [
        {
          "name": "stdout",
          "output_type": "stream",
          "text": [
            "Found 5152 images belonging to 8 classes.\n",
            "Found 644 images belonging to 8 classes.\n",
            "Found 644 images belonging to 8 classes.\n"
          ]
        }
      ],
      "source": [
        "train_image_gen = image_gen.flow_from_directory(train,\n",
        "                                               target_size=image_shape[:2],\n",
        "                                               color_mode='rgb',\n",
        "                                               batch_size=32,\n",
        "                                               class_mode='categorical')\n",
        "\n",
        "test_image_gen = image_gen.flow_from_directory(test,\n",
        "                                               target_size=image_shape[:2],\n",
        "                                               color_mode='rgb',\n",
        "                                               batch_size=32,\n",
        "                                               class_mode='categorical',shuffle=True)\n",
        "\n",
        "val_image_gen = image_gen.flow_from_directory(val,\n",
        "                                               target_size=image_shape[:2],\n",
        "                                               color_mode='rgb',\n",
        "                                               batch_size=32,\n",
        "                                               class_mode='categorical',shuffle=False)"
      ]
    },
    {
      "cell_type": "code",
      "execution_count": null,
      "metadata": {
        "colab": {
          "base_uri": "https://localhost:8080/"
        },
        "id": "zr7jhxBaPWbp",
        "outputId": "f4cd0830-fb0a-4756-e646-2feb3dfcd7e0"
      },
      "outputs": [
        {
          "data": {
            "text/plain": [
              "{'dyed-lifted-polyps': 0,\n",
              " 'dyed-resection-margins': 1,\n",
              " 'esophagitis': 2,\n",
              " 'normal-cecum': 3,\n",
              " 'normal-pylorus': 4,\n",
              " 'normal-z-line': 5,\n",
              " 'polyps': 6,\n",
              " 'ulcerative-colitis': 7}"
            ]
          },
          "execution_count": 6,
          "metadata": {},
          "output_type": "execute_result"
        }
      ],
      "source": [
        "train_image_gen.class_indices"
      ]
    },
    {
      "cell_type": "markdown",
      "metadata": {
        "id": "rDUU6mv7cEoE"
      },
      "source": [
        "## INCEPTIONV3"
      ]
    },
    {
      "cell_type": "code",
      "execution_count": null,
      "metadata": {
        "id": "Tlte3m5oQX8M"
      },
      "outputs": [],
      "source": [
        "from tensorflow.keras.applications.inception_v3 import InceptionV3\n",
        "from tensorflow.keras.layers import Dense, Dropout, GlobalAveragePooling2D\n",
        "from tensorflow.keras.models import Model\n",
        "from tensorflow.keras.optimizers import SGD"
      ]
    },
    {
      "cell_type": "code",
      "execution_count": null,
      "metadata": {
        "colab": {
          "base_uri": "https://localhost:8080/"
        },
        "id": "i828JktIQaFX",
        "outputId": "d3cab6ee-852a-46b3-ec7c-7fd437163fc5"
      },
      "outputs": [
        {
          "name": "stdout",
          "output_type": "stream",
          "text": [
            "Downloading data from https://storage.googleapis.com/tensorflow/keras-applications/inception_v3/inception_v3_weights_tf_dim_ordering_tf_kernels_notop.h5\n",
            "87910968/87910968 [==============================] - 1s 0us/step\n"
          ]
        }
      ],
      "source": [
        "# Load the pre-trained InceptionV3 model without the top layer\n",
        "base_modelv3 = InceptionV3(weights='imagenet', include_top=False, input_shape=(224,224,3))\n"
      ]
    },
    {
      "cell_type": "code",
      "execution_count": null,
      "metadata": {
        "id": "cLtcllTxQcBf"
      },
      "outputs": [],
      "source": [
        "x = base_modelv3.output\n",
        "x = GlobalAveragePooling2D()(x)\n",
        "x = Dense(512, activation='relu')(x)\n",
        "x = Dropout(0.2)(x)\n",
        "predictions1 = Dense(8, activation='softmax')(x)\n"
      ]
    },
    {
      "cell_type": "code",
      "execution_count": null,
      "metadata": {
        "id": "JKvvPDXiQfcw"
      },
      "outputs": [],
      "source": [
        "modelv3 = Model(inputs=base_modelv3.input, outputs=predictions1)"
      ]
    },
    {
      "cell_type": "code",
      "execution_count": null,
      "metadata": {
        "id": "fMYzCdW8QhS4"
      },
      "outputs": [],
      "source": [
        "for layer in base_modelv3.layers[:1]:\n",
        "    layer.trainable = False\n"
      ]
    },
    {
      "cell_type": "code",
      "execution_count": null,
      "metadata": {
        "id": "di_SvCjAQjOw"
      },
      "outputs": [],
      "source": [
        "modelv3.compile(optimizer='sgd', loss='categorical_crossentropy', metrics=['accuracy'])"
      ]
    },
    {
      "cell_type": "code",
      "execution_count": null,
      "metadata": {
        "colab": {
          "base_uri": "https://localhost:8080/"
        },
        "id": "xlPA7a-jQk7j",
        "outputId": "b62c72ce-0a9b-4320-cda9-7364283c54ca"
      },
      "outputs": [
        {
          "name": "stdout",
          "output_type": "stream",
          "text": [
            "Epoch 1/30\n",
            "161/161 [==============================] - 1343s 8s/step - loss: 0.8615 - accuracy: 0.7104 - val_loss: 0.4312 - val_accuracy: 0.8230\n",
            "Epoch 2/30\n",
            "161/161 [==============================] - 114s 708ms/step - loss: 0.2831 - accuracy: 0.8993 - val_loss: 0.2309 - val_accuracy: 0.9193\n",
            "Epoch 3/30\n",
            "161/161 [==============================] - 114s 708ms/step - loss: 0.1915 - accuracy: 0.9342 - val_loss: 0.2072 - val_accuracy: 0.9301\n",
            "Epoch 4/30\n",
            "161/161 [==============================] - 113s 704ms/step - loss: 0.1382 - accuracy: 0.9534 - val_loss: 0.1643 - val_accuracy: 0.9394\n",
            "Epoch 5/30\n",
            "161/161 [==============================] - 113s 704ms/step - loss: 0.1053 - accuracy: 0.9643 - val_loss: 0.1932 - val_accuracy: 0.9286\n",
            "Epoch 6/30\n",
            "161/161 [==============================] - 122s 756ms/step - loss: 0.0918 - accuracy: 0.9711 - val_loss: 0.1681 - val_accuracy: 0.9410\n",
            "Epoch 7/30\n",
            "161/161 [==============================] - 115s 713ms/step - loss: 0.0695 - accuracy: 0.9777 - val_loss: 0.1833 - val_accuracy: 0.9441\n",
            "Epoch 8/30\n",
            "161/161 [==============================] - 116s 719ms/step - loss: 0.0577 - accuracy: 0.9821 - val_loss: 0.1533 - val_accuracy: 0.9503\n",
            "Epoch 9/30\n",
            "161/161 [==============================] - 123s 765ms/step - loss: 0.0449 - accuracy: 0.9854 - val_loss: 0.1663 - val_accuracy: 0.9488\n",
            "Epoch 10/30\n",
            "161/161 [==============================] - 114s 707ms/step - loss: 0.0374 - accuracy: 0.9872 - val_loss: 0.1361 - val_accuracy: 0.9550\n",
            "Epoch 11/30\n",
            "161/161 [==============================] - 115s 712ms/step - loss: 0.0272 - accuracy: 0.9915 - val_loss: 0.1757 - val_accuracy: 0.9472\n",
            "Epoch 12/30\n",
            "161/161 [==============================] - 115s 713ms/step - loss: 0.0294 - accuracy: 0.9917 - val_loss: 0.1659 - val_accuracy: 0.9503\n",
            "Epoch 13/30\n",
            "161/161 [==============================] - 114s 708ms/step - loss: 0.0258 - accuracy: 0.9909 - val_loss: 0.1948 - val_accuracy: 0.9441\n",
            "Epoch 14/30\n",
            "161/161 [==============================] - 122s 759ms/step - loss: 0.0206 - accuracy: 0.9934 - val_loss: 0.1577 - val_accuracy: 0.9581\n",
            "Epoch 15/30\n",
            "161/161 [==============================] - 114s 708ms/step - loss: 0.0193 - accuracy: 0.9942 - val_loss: 0.1572 - val_accuracy: 0.9596\n",
            "Epoch 16/30\n",
            "161/161 [==============================] - 114s 705ms/step - loss: 0.0209 - accuracy: 0.9930 - val_loss: 0.1423 - val_accuracy: 0.9534\n",
            "Epoch 17/30\n",
            "161/161 [==============================] - 114s 708ms/step - loss: 0.0213 - accuracy: 0.9932 - val_loss: 0.1590 - val_accuracy: 0.9503\n",
            "Epoch 18/30\n",
            "161/161 [==============================] - 114s 707ms/step - loss: 0.0178 - accuracy: 0.9948 - val_loss: 0.1807 - val_accuracy: 0.9565\n",
            "Epoch 19/30\n",
            "161/161 [==============================] - 114s 708ms/step - loss: 0.0170 - accuracy: 0.9942 - val_loss: 0.1769 - val_accuracy: 0.9503\n",
            "Epoch 20/30\n",
            "161/161 [==============================] - 113s 699ms/step - loss: 0.0180 - accuracy: 0.9951 - val_loss: 0.2134 - val_accuracy: 0.9534\n",
            "Epoch 21/30\n",
            "161/161 [==============================] - 122s 757ms/step - loss: 0.0135 - accuracy: 0.9971 - val_loss: 0.1663 - val_accuracy: 0.9596\n",
            "Epoch 22/30\n",
            "161/161 [==============================] - 113s 704ms/step - loss: 0.0185 - accuracy: 0.9953 - val_loss: 0.1715 - val_accuracy: 0.9581\n",
            "Epoch 23/30\n",
            "161/161 [==============================] - 126s 783ms/step - loss: 0.0155 - accuracy: 0.9963 - val_loss: 0.1597 - val_accuracy: 0.9643\n",
            "Epoch 24/30\n",
            "161/161 [==============================] - 141s 868ms/step - loss: 0.0132 - accuracy: 0.9959 - val_loss: 0.1671 - val_accuracy: 0.9612\n",
            "Epoch 25/30\n",
            "161/161 [==============================] - 127s 787ms/step - loss: 0.0128 - accuracy: 0.9963 - val_loss: 0.1661 - val_accuracy: 0.9612\n",
            "Epoch 26/30\n",
            "161/161 [==============================] - 114s 709ms/step - loss: 0.0112 - accuracy: 0.9969 - val_loss: 0.1576 - val_accuracy: 0.9534\n",
            "Epoch 27/30\n",
            "161/161 [==============================] - 114s 707ms/step - loss: 0.0098 - accuracy: 0.9977 - val_loss: 0.1470 - val_accuracy: 0.9627\n",
            "Epoch 28/30\n",
            "161/161 [==============================] - 113s 704ms/step - loss: 0.0086 - accuracy: 0.9971 - val_loss: 0.1979 - val_accuracy: 0.9581\n",
            "Epoch 29/30\n",
            "161/161 [==============================] - 114s 706ms/step - loss: 0.0096 - accuracy: 0.9969 - val_loss: 0.1642 - val_accuracy: 0.9596\n",
            "Epoch 30/30\n",
            "161/161 [==============================] - 122s 758ms/step - loss: 0.0069 - accuracy: 0.9983 - val_loss: 0.1517 - val_accuracy: 0.9581\n"
          ]
        }
      ],
      "source": [
        "historyv3 = modelv3.fit(x=train_image_gen,\n",
        "                      epochs=30,\n",
        "                      validation_data=val_image_gen)\n"
      ]
    },
    {
      "cell_type": "code",
      "execution_count": null,
      "metadata": {
        "colab": {
          "base_uri": "https://localhost:8080/"
        },
        "id": "LbEXKMlQQnPQ",
        "outputId": "884548c2-39cc-4c98-efa1-87e8bd894b68"
      },
      "outputs": [
        {
          "name": "stdout",
          "output_type": "stream",
          "text": [
            "21/21 [==============================] - 166s 8s/step - loss: 0.1402 - accuracy: 0.9752\n"
          ]
        }
      ],
      "source": [
        "test_historyv3 = modelv3.evaluate(x=test_image_gen)"
      ]
    },
    {
      "cell_type": "code",
      "execution_count": null,
      "metadata": {
        "colab": {
          "base_uri": "https://localhost:8080/",
          "height": 945
        },
        "id": "bcpzgbT_XIeJ",
        "outputId": "5e47d3b9-209b-430b-c61d-8cbab77bd03d"
      },
      "outputs": [
        {
          "name": "stdout",
          "output_type": "stream",
          "text": [
            "dict_keys(['loss', 'accuracy', 'val_loss', 'val_accuracy'])\n"
          ]
        },
        {
          "data": {
            "image/png": "[encoded data removed]",
            "text/plain": [
              "<Figure size 640x480 with 1 Axes>"
            ]
          },
          "metadata": {},
          "output_type": "display_data"
        },
        {
          "data": {
            "image/png": "[encoded data removed]",
            "text/plain": [
              "<Figure size 640x480 with 1 Axes>"
            ]
          },
          "metadata": {},
          "output_type": "display_data"
        }
      ],
      "source": [
        "print(historyv3.history.keys())\n",
        "#  \"Accuracy\"\n",
        "plt.plot(historyv3.history['accuracy'])\n",
        "plt.plot(historyv3.history['val_accuracy'])\n",
        "plt.title('model accuracy')\n",
        "plt.ylabel('accuracy')\n",
        "plt.xlabel('epoch')\n",
        "plt.legend(['train', 'validation'], loc='upper left')\n",
        "plt.show()\n",
        "# \"Loss\"\n",
        "plt.plot(historyv3.history['loss'])\n",
        "plt.plot(historyv3.history['val_loss'])\n",
        "plt.title('model loss')\n",
        "plt.ylabel('loss')\n",
        "plt.xlabel('epoch')\n",
        "plt.legend(['train', 'validation'], loc='upper left')\n",
        "plt.show()"
      ]
    },
    {
      "cell_type": "code",
      "execution_count": null,
      "metadata": {
        "id": "X_6By6p-WpZk"
      },
      "outputs": [],
      "source": [
        "modelv3.save('/content/drive/MyDrive/Colab Notebooks/Endo-inception97.h5')"
      ]
    },
    {
      "cell_type": "markdown",
      "metadata": {
        "id": "focMG-bl-JCF"
      },
      "source": [
        "## DENSENET121"
      ]
    },
    {
      "cell_type": "code",
      "execution_count": null,
      "metadata": {
        "id": "2WTR3z_o9SfS"
      },
      "outputs": [],
      "source": [
        "from tensorflow.keras.layers import Dense, GlobalAveragePooling2D, Dropout\n",
        "from tensorflow.keras.models import Model\n",
        "from tensorflow.keras.applications.densenet import DenseNet121\n"
      ]
    },
    {
      "cell_type": "code",
      "execution_count": null,
      "metadata": {
        "colab": {
          "base_uri": "https://localhost:8080/"
        },
        "id": "BuZaSp1h-SeD",
        "outputId": "dc3d59cf-71ba-4b5c-fcda-71fa5f501e8e"
      },
      "outputs": [
        {
          "name": "stdout",
          "output_type": "stream",
          "text": [
            "Downloading data from https://storage.googleapis.com/tensorflow/keras-applications/densenet/densenet121_weights_tf_dim_ordering_tf_kernels_notop.h5\n",
            "29084464/29084464 [==============================] - 3s 0us/step\n"
          ]
        }
      ],
      "source": [
        "# Define the number of classes\n",
        "num_classes = len(train_image_gen.class_indices)\n",
        "\n",
        "# Load the pre-trained model\n",
        "base_model = DenseNet121(weights='imagenet', include_top=False, input_shape=(224,224,3))\n",
        "\n"
      ]
    },
    {
      "cell_type": "code",
      "execution_count": null,
      "metadata": {
        "id": "CZOUGtvC-aZy"
      },
      "outputs": [],
      "source": [
        "# Add a new classification layer\n",
        "x = base_model.output\n",
        "x = GlobalAveragePooling2D()(x)\n",
        "x = Dense(1024, activation='relu')(x)\n",
        "x = Dropout(0.2)(x)\n",
        "predictions = Dense(num_classes, activation='softmax')(x)\n",
        "\n"
      ]
    },
    {
      "cell_type": "code",
      "execution_count": null,
      "metadata": {
        "id": "yt0oblyZ-e0w"
      },
      "outputs": [],
      "source": [
        "# Create the final model\n",
        "dense_model = Model(inputs=base_model.input, outputs=predictions)"
      ]
    },
    {
      "cell_type": "code",
      "execution_count": null,
      "metadata": {
        "colab": {
          "base_uri": "https://localhost:8080/"
        },
        "id": "KyPNflwx-lhX",
        "outputId": "065fb979-fa9e-46d9-a7aa-e4f429b29e70"
      },
      "outputs": [
        {
          "name": "stdout",
          "output_type": "stream",
          "text": [
            "Epoch 1/30\n",
            "161/161 [==============================] - 4428s 27s/step - loss: 0.5946 - accuracy: 0.7921 - val_loss: 0.3911 - val_accuracy: 0.8665\n",
            "Epoch 2/30\n",
            "161/161 [==============================] - 123s 761ms/step - loss: 0.2146 - accuracy: 0.9210 - val_loss: 0.2184 - val_accuracy: 0.9130\n",
            "Epoch 3/30\n",
            "161/161 [==============================] - 126s 780ms/step - loss: 0.1603 - accuracy: 0.9451 - val_loss: 0.1900 - val_accuracy: 0.9255\n",
            "Epoch 4/30\n",
            "161/161 [==============================] - 125s 772ms/step - loss: 0.1116 - accuracy: 0.9594 - val_loss: 0.1699 - val_accuracy: 0.9394\n",
            "Epoch 5/30\n",
            "161/161 [==============================] - 133s 824ms/step - loss: 0.0864 - accuracy: 0.9676 - val_loss: 0.1473 - val_accuracy: 0.9425\n",
            "Epoch 6/30\n",
            "161/161 [==============================] - 133s 824ms/step - loss: 0.0682 - accuracy: 0.9783 - val_loss: 0.1443 - val_accuracy: 0.9534\n",
            "Epoch 7/30\n",
            "161/161 [==============================] - 132s 822ms/step - loss: 0.0540 - accuracy: 0.9829 - val_loss: 0.1185 - val_accuracy: 0.9689\n",
            "Epoch 8/30\n",
            "161/161 [==============================] - 132s 822ms/step - loss: 0.0522 - accuracy: 0.9845 - val_loss: 0.1319 - val_accuracy: 0.9627\n",
            "Epoch 9/30\n",
            "161/161 [==============================] - 132s 822ms/step - loss: 0.0402 - accuracy: 0.9872 - val_loss: 0.1479 - val_accuracy: 0.9457\n",
            "Epoch 10/30\n",
            "161/161 [==============================] - 133s 825ms/step - loss: 0.0331 - accuracy: 0.9895 - val_loss: 0.1961 - val_accuracy: 0.9425\n",
            "Epoch 11/30\n",
            "161/161 [==============================] - 123s 766ms/step - loss: 0.0318 - accuracy: 0.9897 - val_loss: 0.1351 - val_accuracy: 0.9689\n",
            "Epoch 12/30\n",
            "161/161 [==============================] - 123s 762ms/step - loss: 0.0214 - accuracy: 0.9948 - val_loss: 0.1470 - val_accuracy: 0.9503\n",
            "Epoch 13/30\n",
            "161/161 [==============================] - 123s 763ms/step - loss: 0.0169 - accuracy: 0.9969 - val_loss: 0.1098 - val_accuracy: 0.9720\n",
            "Epoch 14/30\n",
            "161/161 [==============================] - 124s 765ms/step - loss: 0.0191 - accuracy: 0.9944 - val_loss: 0.0934 - val_accuracy: 0.9752\n",
            "Epoch 15/30\n",
            "161/161 [==============================] - 133s 823ms/step - loss: 0.0151 - accuracy: 0.9967 - val_loss: 0.0965 - val_accuracy: 0.9767\n",
            "Epoch 16/30\n",
            "161/161 [==============================] - 132s 818ms/step - loss: 0.0139 - accuracy: 0.9963 - val_loss: 0.1493 - val_accuracy: 0.9596\n",
            "Epoch 17/30\n",
            "161/161 [==============================] - 132s 817ms/step - loss: 0.0157 - accuracy: 0.9951 - val_loss: 0.1547 - val_accuracy: 0.9643\n",
            "Epoch 18/30\n",
            "161/161 [==============================] - 121s 748ms/step - loss: 0.0161 - accuracy: 0.9944 - val_loss: 0.0959 - val_accuracy: 0.9643\n",
            "Epoch 19/30\n",
            "161/161 [==============================] - 124s 770ms/step - loss: 0.0151 - accuracy: 0.9959 - val_loss: 0.1331 - val_accuracy: 0.9643\n",
            "Epoch 20/30\n",
            "161/161 [==============================] - 135s 836ms/step - loss: 0.0098 - accuracy: 0.9975 - val_loss: 0.1721 - val_accuracy: 0.9612\n",
            "Epoch 21/30\n",
            "161/161 [==============================] - 122s 757ms/step - loss: 0.0076 - accuracy: 0.9983 - val_loss: 0.1318 - val_accuracy: 0.9720\n",
            "Epoch 22/30\n",
            "161/161 [==============================] - 126s 781ms/step - loss: 0.0125 - accuracy: 0.9967 - val_loss: 0.1529 - val_accuracy: 0.9596\n",
            "Epoch 23/30\n",
            "161/161 [==============================] - 125s 772ms/step - loss: 0.0085 - accuracy: 0.9975 - val_loss: 0.1534 - val_accuracy: 0.9689\n",
            "Epoch 24/30\n",
            "161/161 [==============================] - 123s 763ms/step - loss: 0.0082 - accuracy: 0.9973 - val_loss: 0.1426 - val_accuracy: 0.9689\n",
            "Epoch 25/30\n",
            "161/161 [==============================] - 124s 772ms/step - loss: 0.0090 - accuracy: 0.9969 - val_loss: 0.1384 - val_accuracy: 0.9643\n",
            "Epoch 26/30\n",
            "161/161 [==============================] - 123s 761ms/step - loss: 0.0098 - accuracy: 0.9969 - val_loss: 0.1395 - val_accuracy: 0.9674\n",
            "Epoch 27/30\n",
            "161/161 [==============================] - 125s 775ms/step - loss: 0.0067 - accuracy: 0.9981 - val_loss: 0.1777 - val_accuracy: 0.9534\n",
            "Epoch 28/30\n",
            "161/161 [==============================] - 122s 759ms/step - loss: 0.0056 - accuracy: 0.9990 - val_loss: 0.1248 - val_accuracy: 0.9689\n",
            "Epoch 29/30\n",
            "161/161 [==============================] - 123s 761ms/step - loss: 0.0060 - accuracy: 0.9992 - val_loss: 0.1441 - val_accuracy: 0.9752\n",
            "Epoch 30/30\n",
            "161/161 [==============================] - 124s 768ms/step - loss: 0.0037 - accuracy: 0.9994 - val_loss: 0.1165 - val_accuracy: 0.9752\n"
          ]
        }
      ],
      "source": [
        "# Compile the model\n",
        "dense_model.compile(optimizer='sgd', loss='categorical_crossentropy', metrics=['accuracy'])\n",
        "\n",
        "# Train the model\n",
        "historyd = dense_model.fit(train_image_gen, epochs=30, validation_data=val_image_gen)\n",
        "\n"
      ]
    },
    {
      "cell_type": "code",
      "execution_count": null,
      "metadata": {
        "colab": {
          "base_uri": "https://localhost:8080/"
        },
        "id": "N01VNZl9Yuqb",
        "outputId": "2690c3e2-9c32-4969-9296-d38395a1db88"
      },
      "outputs": [
        {
          "name": "stdout",
          "output_type": "stream",
          "text": [
            "21/21 [==============================] - 464s 23s/step - loss: 0.0945 - accuracy: 0.9767\n"
          ]
        }
      ],
      "source": [
        "test_historyd = dense_model.evaluate(x=test_image_gen)"
      ]
    },
    {
      "cell_type": "code",
      "execution_count": null,
      "metadata": {
        "colab": {
          "base_uri": "https://localhost:8080/",
          "height": 945
        },
        "id": "oF_Bc7CkY339",
        "outputId": "27313198-9451-4541-a961-7ec089803b99"
      },
      "outputs": [
        {
          "name": "stdout",
          "output_type": "stream",
          "text": [
            "dict_keys(['loss', 'accuracy', 'val_loss', 'val_accuracy'])\n"
          ]
        },
        {
          "data": {
            "image/png": "[encoded data removed]",
            "text/plain": [
              "<Figure size 640x480 with 1 Axes>"
            ]
          },
          "metadata": {},
          "output_type": "display_data"
        },
        {
          "data": {
            "image/png": "[encoded data removed]",
            "text/plain": [
              "<Figure size 640x480 with 1 Axes>"
            ]
          },
          "metadata": {},
          "output_type": "display_data"
        }
      ],
      "source": [
        "print(historyd.history.keys())\n",
        "#  \"Accuracy\"\n",
        "plt.plot(historyd.history['accuracy'])\n",
        "plt.plot(historyd.history['val_accuracy'])\n",
        "plt.title('model accuracy')\n",
        "plt.ylabel('accuracy')\n",
        "plt.xlabel('epoch')\n",
        "plt.legend(['train', 'validation'], loc='upper left')\n",
        "plt.show()\n",
        "# \"Loss\"\n",
        "plt.plot(historyd.history['loss'])\n",
        "plt.plot(historyd.history['val_loss'])\n",
        "plt.title('model loss')\n",
        "plt.ylabel('loss')\n",
        "plt.xlabel('epoch')\n",
        "plt.legend(['train', 'validation'], loc='upper left')\n",
        "plt.show()"
      ]
    },
    {
      "cell_type": "code",
      "execution_count": null,
      "metadata": {
        "colab": {
          "base_uri": "https://localhost:8080/"
        },
        "id": "-IqFcclqgK9u",
        "outputId": "d5820498-5024-4e99-c2a4-1435676b537e"
      },
      "outputs": [
        {
          "name": "stderr",
          "output_type": "stream",
          "text": [
            "/usr/local/lib/python3.10/dist-packages/keras/src/engine/training.py:3079: UserWarning: You are saving your model as an HDF5 file via `model.save()`. This file format is considered legacy. We recommend using instead the native Keras format, e.g. `model.save('my_model.keras')`.\n",
            "  saving_api.save_model(\n"
          ]
        }
      ],
      "source": [
        "dense_model.save('/content/drive/MyDrive/Colab Notebooks/Endo-DenseNet97.h5')"
      ]
    },
    {
      "cell_type": "markdown",
      "metadata": {
        "id": "lTKulH5-gjt8"
      },
      "source": [
        "## VGG"
      ]
    },
    {
      "cell_type": "code",
      "execution_count": null,
      "metadata": {
        "id": "txUsvovaghYT"
      },
      "outputs": [],
      "source": [
        "from tensorflow.keras.applications import VGG16"
      ]
    },
    {
      "cell_type": "code",
      "execution_count": null,
      "metadata": {
        "id": "JSgDrtqkiJK6"
      },
      "outputs": [],
      "source": [
        "basic_vgg = VGG16(input_shape=(224,224,3),\n",
        "                 include_top=False,\n",
        "                 weights='imagenet')\n",
        "\n"
      ]
    },
    {
      "cell_type": "code",
      "execution_count": null,
      "metadata": {
        "id": "lmC3fogriO5A"
      },
      "outputs": [],
      "source": [
        "#for layer in basic_vgg.layers[:1]:\n",
        " #   layer.trainable = False"
      ]
    },
    {
      "cell_type": "code",
      "execution_count": null,
      "metadata": {
        "id": "G-b_gb6-iRas"
      },
      "outputs": [],
      "source": [
        "import matplotlib.pyplot as plt\n",
        "from tensorflow.keras.models import Sequential\n",
        "from tensorflow.keras.layers import Dense,Conv2D,MaxPool2D,Flatten,Dropout"
      ]
    },
    {
      "cell_type": "code",
      "execution_count": null,
      "metadata": {
        "id": "gAEW2nfFiTli"
      },
      "outputs": [],
      "source": [
        "x=Flatten()(basic_vgg.output)\n",
        "x=Dense(512,activation='relu')(x)\n",
        "x=Dropout(0.3)(x)\n",
        "x=Dense(8,activation='softmax')(x)"
      ]
    },
    {
      "cell_type": "code",
      "execution_count": null,
      "metadata": {
        "id": "wBsmDR9kidbp"
      },
      "outputs": [],
      "source": [
        "modelvgg =tf.keras.Model(basic_vgg.input,x)\n",
        "modelvgg.compile(optimizer='sgd',loss='categorical_crossentropy',metrics=['accuracy'])"
      ]
    },
    {
      "cell_type": "code",
      "execution_count": null,
      "metadata": {
        "colab": {
          "base_uri": "https://localhost:8080/"
        },
        "id": "sch3uqjviiQ6",
        "outputId": "2e07f9a3-0d6a-4bf6-a4b0-07ccaf6f47d2"
      },
      "outputs": [
        {
          "name": "stdout",
          "output_type": "stream",
          "text": [
            "Epoch 1/25\n",
            "161/161 [==============================] - 127s 782ms/step - loss: 0.0276 - accuracy: 0.9909 - val_loss: 0.1839 - val_accuracy: 0.9441\n",
            "Epoch 2/25\n",
            "161/161 [==============================] - 124s 768ms/step - loss: 0.9100 - accuracy: 0.6988 - val_loss: 1.0769 - val_accuracy: 0.5373\n",
            "Epoch 3/25\n",
            "161/161 [==============================] - 125s 777ms/step - loss: 0.4859 - accuracy: 0.7937 - val_loss: 0.2758 - val_accuracy: 0.9022\n",
            "Epoch 4/25\n",
            "161/161 [==============================] - 124s 771ms/step - loss: 0.1271 - accuracy: 0.9521 - val_loss: 0.2257 - val_accuracy: 0.9161\n",
            "Epoch 5/25\n",
            "161/161 [==============================] - 126s 781ms/step - loss: 0.3169 - accuracy: 0.8903 - val_loss: 0.2204 - val_accuracy: 0.9208\n",
            "Epoch 6/25\n",
            "161/161 [==============================] - 126s 780ms/step - loss: 0.0713 - accuracy: 0.9742 - val_loss: 0.4883 - val_accuracy: 0.8323\n",
            "Epoch 7/25\n",
            "161/161 [==============================] - 124s 768ms/step - loss: 0.0597 - accuracy: 0.9800 - val_loss: 0.2210 - val_accuracy: 0.9208\n",
            "Epoch 8/25\n",
            "161/161 [==============================] - 124s 771ms/step - loss: 0.1443 - accuracy: 0.9524 - val_loss: 0.2027 - val_accuracy: 0.9255\n",
            "Epoch 9/25\n",
            "161/161 [==============================] - 127s 789ms/step - loss: 0.0432 - accuracy: 0.9856 - val_loss: 0.2635 - val_accuracy: 0.9286\n",
            "Epoch 10/25\n",
            "161/161 [==============================] - 124s 768ms/step - loss: 0.0280 - accuracy: 0.9911 - val_loss: 0.2338 - val_accuracy: 0.9363\n",
            "Epoch 11/25\n",
            "161/161 [==============================] - 128s 793ms/step - loss: 0.0270 - accuracy: 0.9917 - val_loss: 0.2658 - val_accuracy: 0.9363\n",
            "Epoch 12/25\n",
            "161/161 [==============================] - 125s 777ms/step - loss: 0.0219 - accuracy: 0.9924 - val_loss: 0.1828 - val_accuracy: 0.9425\n",
            "Epoch 13/25\n",
            "161/161 [==============================] - 129s 799ms/step - loss: 0.0319 - accuracy: 0.9918 - val_loss: 0.2021 - val_accuracy: 0.9394\n",
            "Epoch 14/25\n",
            "161/161 [==============================] - 123s 765ms/step - loss: 0.0188 - accuracy: 0.9948 - val_loss: 0.2189 - val_accuracy: 0.9488\n",
            "Epoch 15/25\n",
            "161/161 [==============================] - 124s 770ms/step - loss: 0.0157 - accuracy: 0.9957 - val_loss: 0.2010 - val_accuracy: 0.9581\n",
            "Epoch 16/25\n",
            "161/161 [==============================] - 123s 764ms/step - loss: 0.0201 - accuracy: 0.9934 - val_loss: 0.2497 - val_accuracy: 0.9457\n",
            "Epoch 17/25\n",
            "161/161 [==============================] - 124s 769ms/step - loss: 0.0111 - accuracy: 0.9965 - val_loss: 0.2444 - val_accuracy: 0.9457\n",
            "Epoch 18/25\n",
            "161/161 [==============================] - 124s 771ms/step - loss: 0.0093 - accuracy: 0.9973 - val_loss: 0.1918 - val_accuracy: 0.9503\n",
            "Epoch 19/25\n",
            "161/161 [==============================] - 123s 761ms/step - loss: 0.0118 - accuracy: 0.9971 - val_loss: 0.2210 - val_accuracy: 0.9488\n",
            "Epoch 20/25\n",
            "161/161 [==============================] - 126s 779ms/step - loss: 0.0143 - accuracy: 0.9946 - val_loss: 0.2067 - val_accuracy: 0.9519\n",
            "Epoch 21/25\n",
            "161/161 [==============================] - 123s 765ms/step - loss: 0.0053 - accuracy: 0.9988 - val_loss: 0.2167 - val_accuracy: 0.9472\n",
            "Epoch 22/25\n",
            "161/161 [==============================] - 123s 762ms/step - loss: 0.0032 - accuracy: 0.9992 - val_loss: 0.2000 - val_accuracy: 0.9519\n",
            "Epoch 23/25\n",
            "161/161 [==============================] - 124s 767ms/step - loss: 0.0047 - accuracy: 0.9983 - val_loss: 0.2981 - val_accuracy: 0.9255\n",
            "Epoch 24/25\n",
            "161/161 [==============================] - 124s 771ms/step - loss: 0.0081 - accuracy: 0.9975 - val_loss: 0.1924 - val_accuracy: 0.9488\n",
            "Epoch 25/25\n",
            "161/161 [==============================] - 134s 833ms/step - loss: 0.0092 - accuracy: 0.9979 - val_loss: 0.2222 - val_accuracy: 0.9363\n"
          ]
        }
      ],
      "source": [
        "historyvgg = modelvgg.fit(x=train_image_gen,\n",
        "                      epochs=25,\n",
        "                      validation_data=val_image_gen)\n"
      ]
    },
    {
      "cell_type": "code",
      "execution_count": null,
      "metadata": {
        "colab": {
          "base_uri": "https://localhost:8080/"
        },
        "id": "pdbdsqlwimth",
        "outputId": "052dbb63-ef90-46f8-ad66-92795da1533c"
      },
      "outputs": [
        {
          "name": "stdout",
          "output_type": "stream",
          "text": [
            "21/21 [==============================] - 14s 651ms/step - loss: 0.1538 - accuracy: 0.9643\n"
          ]
        }
      ],
      "source": [
        "test_metrics = modelvgg.evaluate(x=test_image_gen)"
      ]
    },
    {
      "cell_type": "code",
      "execution_count": null,
      "metadata": {
        "colab": {
          "base_uri": "https://localhost:8080/",
          "height": 286
        },
        "id": "-ZROLEepFfo5",
        "outputId": "2a9e25b1-d58f-4586-f803-3f2fd8120d13"
      },
      "outputs": [
        {
          "name": "stdout",
          "output_type": "stream",
          "text": [
            "Test Loss: 0.15378545224666595\n",
            "Test Accuracy: 0.9642857313156128\n"
          ]
        },
        {
          "ename": "AttributeError",
          "evalue": "ignored",
          "output_type": "error",
          "traceback": [
            "\u001b[0;31m---------------------------------------------------------------------------\u001b[0m",
            "\u001b[0;31mAttributeError\u001b[0m                            Traceback (most recent call last)",
            "\u001b[0;32m<ipython-input-64-9c3a15c0411b>\u001b[0m in \u001b[0;36m<cell line: 10>\u001b[0;34m()\u001b[0m\n\u001b[1;32m      8\u001b[0m \u001b[0;34m\u001b[0m\u001b[0m\n\u001b[1;32m      9\u001b[0m \u001b[0;31m# Plot \"Accuracy\"\u001b[0m\u001b[0;34m\u001b[0m\u001b[0;34m\u001b[0m\u001b[0m\n\u001b[0;32m---> 10\u001b[0;31m \u001b[0mplt\u001b[0m\u001b[0;34m.\u001b[0m\u001b[0mplot\u001b[0m\u001b[0;34m(\u001b[0m\u001b[0mhistoryvgg\u001b[0m\u001b[0;34m.\u001b[0m\u001b[0mhistory\u001b[0m\u001b[0;34m[\u001b[0m\u001b[0;34m'accuracy'\u001b[0m\u001b[0;34m]\u001b[0m\u001b[0;34m)\u001b[0m\u001b[0;34m\u001b[0m\u001b[0;34m\u001b[0m\u001b[0m\n\u001b[0m\u001b[1;32m     11\u001b[0m \u001b[0mplt\u001b[0m\u001b[0;34m.\u001b[0m\u001b[0mplot\u001b[0m\u001b[0;34m(\u001b[0m\u001b[0mhistoryvgg\u001b[0m\u001b[0;34m.\u001b[0m\u001b[0mhistory\u001b[0m\u001b[0;34m[\u001b[0m\u001b[0;34m'val_accuracy'\u001b[0m\u001b[0;34m]\u001b[0m\u001b[0;34m)\u001b[0m\u001b[0;34m\u001b[0m\u001b[0;34m\u001b[0m\u001b[0m\n\u001b[1;32m     12\u001b[0m \u001b[0mplt\u001b[0m\u001b[0;34m.\u001b[0m\u001b[0mtitle\u001b[0m\u001b[0;34m(\u001b[0m\u001b[0;34m'Model Accuracy Over Epochs (VGG16)'\u001b[0m\u001b[0;34m)\u001b[0m\u001b[0;34m\u001b[0m\u001b[0;34m\u001b[0m\u001b[0m\n",
            "\u001b[0;31mAttributeError\u001b[0m: 'list' object has no attribute 'history'"
          ]
        }
      ],
      "source": [
        "# Print test set loss and accuracy if available\n",
        "if len(test_metrics) == 2:\n",
        "    test_loss, test_accuracy = test_metrics\n",
        "    print(\"Test Loss:\", test_loss)\n",
        "    print(\"Test Accuracy:\", test_accuracy)\n",
        "else:\n",
        "    print(\"Unable to retrieve test set metrics.\")\n",
        "\n",
        "# Plot \"Accuracy\"\n",
        "plt.plot(historyvgg.history['accuracy'])\n",
        "plt.plot(historyvgg.history['val_accuracy'])\n",
        "plt.title('Model Accuracy Over Epochs (VGG16)')\n",
        "plt.xlabel('Epoch')\n",
        "plt.ylabel('Accuracy')\n",
        "plt.legend(['Train', 'Validation'], loc='upper left')\n",
        "plt.show()\n",
        "\n",
        "# Plot \"Loss\"\n",
        "plt.plot(historyvgg.history['loss'])\n",
        "plt.plot(historyvgg.history['val_loss'])\n",
        "plt.title('Model Loss Over Epochs (VGG16)')\n",
        "plt.xlabel('Epoch')\n",
        "plt.ylabel('Loss')\n",
        "plt.legend(['Train', 'Validation'], loc='upper left')\n",
        "plt.show()"
      ]
    },
    {
      "cell_type": "code",
      "execution_count": null,
      "metadata": {
        "colab": {
          "base_uri": "https://localhost:8080/",
          "height": 250
        },
        "id": "FCtAnx7CygXL",
        "outputId": "d85561e2-a9af-4357-9f0e-4af7c42899ca"
      },
      "outputs": [
        {
          "ename": "AttributeError",
          "evalue": "ignored",
          "output_type": "error",
          "traceback": [
            "\u001b[0;31m---------------------------------------------------------------------------\u001b[0m",
            "\u001b[0;31mAttributeError\u001b[0m                            Traceback (most recent call last)",
            "\u001b[0;32m<ipython-input-56-253e337093df>\u001b[0m in \u001b[0;36m<cell line: 1>\u001b[0;34m()\u001b[0m\n\u001b[0;32m----> 1\u001b[0;31m \u001b[0mprint\u001b[0m\u001b[0;34m(\u001b[0m\u001b[0mtest_historyvgg\u001b[0m\u001b[0;34m.\u001b[0m\u001b[0mhistory\u001b[0m\u001b[0;34m.\u001b[0m\u001b[0mkeys\u001b[0m\u001b[0;34m(\u001b[0m\u001b[0;34m)\u001b[0m\u001b[0;34m)\u001b[0m\u001b[0;34m\u001b[0m\u001b[0;34m\u001b[0m\u001b[0m\n\u001b[0m\u001b[1;32m      2\u001b[0m \u001b[0;31m#  \"Accuracy\"\u001b[0m\u001b[0;34m\u001b[0m\u001b[0;34m\u001b[0m\u001b[0m\n\u001b[1;32m      3\u001b[0m \u001b[0mplt\u001b[0m\u001b[0;34m.\u001b[0m\u001b[0mplot\u001b[0m\u001b[0;34m(\u001b[0m\u001b[0mhistoryvgg\u001b[0m\u001b[0;34m.\u001b[0m\u001b[0mhistory\u001b[0m\u001b[0;34m[\u001b[0m\u001b[0;34m'accuracy'\u001b[0m\u001b[0;34m]\u001b[0m\u001b[0;34m)\u001b[0m\u001b[0;34m\u001b[0m\u001b[0;34m\u001b[0m\u001b[0m\n\u001b[1;32m      4\u001b[0m \u001b[0mplt\u001b[0m\u001b[0;34m.\u001b[0m\u001b[0mplot\u001b[0m\u001b[0;34m(\u001b[0m\u001b[0mhistoryvgg\u001b[0m\u001b[0;34m.\u001b[0m\u001b[0mhistory\u001b[0m\u001b[0;34m[\u001b[0m\u001b[0;34m'val_accuracy'\u001b[0m\u001b[0;34m]\u001b[0m\u001b[0;34m)\u001b[0m\u001b[0;34m\u001b[0m\u001b[0;34m\u001b[0m\u001b[0m\n\u001b[1;32m      5\u001b[0m \u001b[0mplt\u001b[0m\u001b[0;34m.\u001b[0m\u001b[0mtitle\u001b[0m\u001b[0;34m(\u001b[0m\u001b[0;34m'model accuracy'\u001b[0m\u001b[0;34m)\u001b[0m\u001b[0;34m\u001b[0m\u001b[0;34m\u001b[0m\u001b[0m\n",
            "\u001b[0;31mAttributeError\u001b[0m: 'list' object has no attribute 'history'"
          ]
        }
      ],
      "source": [
        "print(historyvgg.history.keys())\n",
        "#  \"Accuracy\"\n",
        "plt.plot(historyvgg.history['accuracy'])\n",
        "plt.plot(historyvgg.history['val_accuracy'])\n",
        "plt.title('model accuracy')\n",
        "plt.ylabel('accuracy')\n",
        "plt.xlabel('epoch')\n",
        "plt.legend(['train', 'validation'], loc='upper left')\n",
        "plt.show()\n",
        "# \"Loss\"\n",
        "plt.plot(historyvgg.history['loss'])\n",
        "plt.plot(historyvgg.history['val_loss'])\n",
        "plt.title('model loss')\n",
        "plt.ylabel('loss')\n",
        "plt.xlabel('epoch')\n",
        "plt.legend(['train', 'validation'], loc='upper left')\n",
        "plt.show()"
      ]
    },
    {
      "cell_type": "code",
      "execution_count": null,
      "metadata": {
        "colab": {
          "base_uri": "https://localhost:8080/"
        },
        "id": "59VhDvuoCKME",
        "outputId": "9be21f70-ec3b-4c7b-ed24-6525136df7c5"
      },
      "outputs": [
        {
          "name": "stderr",
          "output_type": "stream",
          "text": [
            "/usr/local/lib/python3.10/dist-packages/keras/src/engine/training.py:3079: UserWarning: You are saving your model as an HDF5 file via `model.save()`. This file format is considered legacy. We recommend using instead the native Keras format, e.g. `model.save('my_model.keras')`.\n",
            "  saving_api.save_model(\n"
          ]
        }
      ],
      "source": [
        "modelvgg.save('/content/drive/MyDrive/Colab Notebooks/Endo-vgg16.h5')"
      ]
    },
    {
      "cell_type": "code",
      "execution_count": null,
      "metadata": {
        "colab": {
          "base_uri": "https://localhost:8080/"
        },
        "id": "j32Q_gqE8tFO",
        "outputId": "eb3f86de-a8f4-4886-c6be-ec95422fccd8"
      },
      "outputs": [
        {
          "name": "stdout",
          "output_type": "stream",
          "text": [
            "Downloading data from https://storage.googleapis.com/tensorflow/keras-applications/vgg16/vgg16_weights_tf_dim_ordering_tf_kernels_notop.h5\n",
            "58889256/58889256 [==============================] - 0s 0us/step\n"
          ]
        }
      ],
      "source": [
        "from tensorflow.keras.applications import VGG16\n",
        "from tensorflow.keras.layers import Dense, Dropout, GlobalAveragePooling2D\n",
        "from tensorflow.keras.models import Model\n",
        "from tensorflow.keras.optimizers import SGD\n",
        "import matplotlib.pyplot as plt\n",
        "import tensorflow as tf\n",
        "\n",
        "# Load the pre-trained VGG16 model without the top layer\n",
        "base_model_vgg = VGG16(weights='imagenet', include_top=False, input_shape=(224, 224, 3))\n",
        "x_vgg = base_model_vgg.output\n",
        "x_vgg = GlobalAveragePooling2D()(x_vgg)\n",
        "x_vgg = Dense(512, activation='relu')(x_vgg)\n",
        "x_vgg = Dropout(0.2)(x_vgg)\n",
        "predictions_vgg = Dense(8, activation='softmax')(x_vgg)\n",
        "model_vgg = Model(inputs=base_model_vgg.input, outputs=predictions_vgg)\n",
        "\n",
        "# Freeze the layers of the pre-trained model\n",
        "#for layer in base_model_vgg.layers:\n",
        " #   layer.trainable = False"
      ]
    },
    {
      "cell_type": "code",
      "execution_count": null,
      "metadata": {
        "colab": {
          "background_save": true,
          "base_uri": "https://localhost:8080/"
        },
        "id": "rAiJ3nBJ9ETF",
        "outputId": "277d7e44-38bd-45b6-da49-e9369bd6db66"
      },
      "outputs": [
        {
          "name": "stdout",
          "output_type": "stream",
          "text": [
            "Epoch 1/30\n",
            " 86/161 [===============>..............] - ETA: 1:18:01 - loss: 1.9590 - accuracy: 0.2235"
          ]
        }
      ],
      "source": [
        "model_vgg.compile(optimizer='sgd', loss='categorical_crossentropy', metrics=['accuracy'])\n",
        "history_vgg = model_vgg.fit(x=train_image_gen,\n",
        "                            epochs=30,\n",
        "                            validation_data=val_image_gen)"
      ]
    },
    {
      "cell_type": "code",
      "execution_count": null,
      "metadata": {
        "id": "Azab82px9CXD"
      },
      "outputs": [],
      "source": [
        "# Evaluate on the test set\n",
        "test_history_vgg = model_vgg.evaluate(x=test_image_gen)"
      ]
    },
    {
      "cell_type": "code",
      "execution_count": null,
      "metadata": {
        "id": "9hcGl__N9ACc"
      },
      "outputs": [],
      "source": [
        "# Print test set loss and accuracy\n",
        "print(\"Test Loss:\", test_history_vgg[0])\n",
        "print(\"Test Accuracy:\", test_history_vgg[1])\n",
        "\n",
        "# Plot \"Accuracy\"\n",
        "plt.plot(history_vgg.history['accuracy'])\n",
        "plt.plot(history_vgg.history['val_accuracy'])\n",
        "plt.title('Model Accuracy Over Epochs (VGG16)')\n",
        "plt.xlabel('Epoch')\n",
        "plt.ylabel('Accuracy')\n",
        "plt.legend(['Train', 'Validation'], loc='upper left')\n",
        "plt.show()\n",
        "\n",
        "# Plot \"Loss\"\n",
        "plt.plot(history_vgg.history['loss'])\n",
        "plt.plot(history_vgg.history['val_loss'])\n",
        "plt.title('Model Loss Over Epochs (VGG16)')\n",
        "plt.xlabel('Epoch')\n",
        "plt.ylabel('Loss')\n",
        "plt.legend(['Train', 'Validation'], loc='upper left')\n",
        "plt.show()"
      ]
    },
    {
      "cell_type": "code",
      "execution_count": null,
      "metadata": {
        "id": "Y29Z7_yC89Ev"
      },
      "outputs": [],
      "source": [
        "# Save the model\n",
        "model_vgg.save('/content/drive/MyDrive/Colab Notebooks/Endo-vgg16p2.h5')"
      ]
    }
  ],
  "metadata": {
    "accelerator": "TPU",
    "colab": {
      "provenance": []
    },
    "kernelspec": {
      "display_name": "Python 3",
      "name": "python3"
    },
    "language_info": {
      "name": "python"
    }
  },
  "nbformat": 4,
  "nbformat_minor": 0
}