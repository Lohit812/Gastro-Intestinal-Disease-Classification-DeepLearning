{
  "nbformat": 4,
  "nbformat_minor": 0,
  "metadata": {
    "colab": {
      "provenance": [],
      "gpuType": "T4"
    },
    "kernelspec": {
      "name": "python3",
      "display_name": "Python 3"
    },
    "language_info": {
      "name": "python"
    },
    "accelerator": "GPU"
  },
  "cells": [
    {
      "cell_type": "code",
      "execution_count": 1,
      "metadata": {
        "id": "upTGt8j-OXRc"
      },
      "outputs": [],
      "source": [
        "import os\n",
        "import random\n",
        "import numpy as np\n",
        "import tensorflow as tf\n",
        "from tensorflow.keras.preprocessing.image import ImageDataGenerator\n",
        "import pandas as pd\n",
        "import matplotlib.pyplot as plt"
      ]
    },
    {
      "cell_type": "code",
      "source": [
        "train = '/content/drive/MyDrive/Colab Notebooks/output/train'\n",
        "test = '/content/drive/MyDrive/Colab Notebooks/output/test'\n",
        "val = '/content/drive/MyDrive/Colab Notebooks/output/val'"
      ],
      "metadata": {
        "id": "hN2-qbilO0pE"
      },
      "execution_count": 2,
      "outputs": []
    },
    {
      "cell_type": "code",
      "source": [
        "from tensorflow.keras.preprocessing.image import ImageDataGenerator\n",
        "image_shape = (224,224,3)\n",
        "image_gen = ImageDataGenerator(rotation_range=20,\n",
        "                               rescale=1/255,\n",
        "                               horizontal_flip=True,\n",
        "                               fill_mode='nearest'\n",
        "                              )\n"
      ],
      "metadata": {
        "id": "78o3-IthPNqb"
      },
      "execution_count": 3,
      "outputs": []
    },
    {
      "cell_type": "code",
      "source": [
        "image_gen.flow_from_directory(train)\n",
        "image_gen.flow_from_directory(test)\n",
        "image_gen.flow_from_directory(val)"
      ],
      "metadata": {
        "colab": {
          "base_uri": "https://localhost:8080/"
        },
        "id": "79h9g3yTPPCi",
        "outputId": "50b2ed7a-7f79-42a5-b9df-09720bb6736c"
      },
      "execution_count": 4,
      "outputs": [
        {
          "output_type": "stream",
          "name": "stdout",
          "text": [
            "Found 5152 images belonging to 8 classes.\n",
            "Found 644 images belonging to 8 classes.\n",
            "Found 644 images belonging to 8 classes.\n"
          ]
        },
        {
          "output_type": "execute_result",
          "data": {
            "text/plain": [
              "<keras.src.preprocessing.image.DirectoryIterator at 0x7b46aa965a50>"
            ]
          },
          "metadata": {},
          "execution_count": 4
        }
      ]
    },
    {
      "cell_type": "code",
      "source": [
        "train_image_gen = image_gen.flow_from_directory(train,\n",
        "                                               target_size=image_shape[:2],\n",
        "                                               color_mode='rgb',\n",
        "                                               batch_size=32,\n",
        "                                               class_mode='categorical')\n",
        "\n",
        "test_image_gen = image_gen.flow_from_directory(test,\n",
        "                                               target_size=image_shape[:2],\n",
        "                                               color_mode='rgb',\n",
        "                                               batch_size=32,\n",
        "                                               class_mode='categorical',shuffle=True)\n",
        "\n",
        "val_image_gen = image_gen.flow_from_directory(val,\n",
        "                                               target_size=image_shape[:2],\n",
        "                                               color_mode='rgb',\n",
        "                                               batch_size=32,\n",
        "                                               class_mode='categorical',shuffle=False)"
      ],
      "metadata": {
        "colab": {
          "base_uri": "https://localhost:8080/"
        },
        "id": "g4YNe57CPTge",
        "outputId": "d4a61866-caaa-4ca7-b395-cfc0eb26372a"
      },
      "execution_count": 5,
      "outputs": [
        {
          "output_type": "stream",
          "name": "stdout",
          "text": [
            "Found 5152 images belonging to 8 classes.\n",
            "Found 644 images belonging to 8 classes.\n",
            "Found 644 images belonging to 8 classes.\n"
          ]
        }
      ]
    },
    {
      "cell_type": "code",
      "source": [
        "train_image_gen.class_indices"
      ],
      "metadata": {
        "colab": {
          "base_uri": "https://localhost:8080/"
        },
        "id": "zr7jhxBaPWbp",
        "outputId": "13a59ff1-e08d-4d58-be73-f440d535574c"
      },
      "execution_count": 6,
      "outputs": [
        {
          "output_type": "execute_result",
          "data": {
            "text/plain": [
              "{'dyed-lifted-polyps': 0,\n",
              " 'dyed-resection-margins': 1,\n",
              " 'esophagitis': 2,\n",
              " 'normal-cecum': 3,\n",
              " 'normal-pylorus': 4,\n",
              " 'normal-z-line': 5,\n",
              " 'polyps': 6,\n",
              " 'ulcerative-colitis': 7}"
            ]
          },
          "metadata": {},
          "execution_count": 6
        }
      ]
    },
    {
      "cell_type": "markdown",
      "source": [
        "## INCEPTIONV3"
      ],
      "metadata": {
        "id": "rDUU6mv7cEoE"
      }
    },
    {
      "cell_type": "code",
      "source": [
        "from tensorflow.keras.applications.inception_v3 import InceptionV3\n",
        "from tensorflow.keras.layers import Dense, Dropout, GlobalAveragePooling2D\n",
        "from tensorflow.keras.models import Model\n",
        "from tensorflow.keras.optimizers import SGD"
      ],
      "metadata": {
        "id": "Tlte3m5oQX8M"
      },
      "execution_count": 7,
      "outputs": []
    },
    {
      "cell_type": "code",
      "source": [
        "# Load the pre-trained InceptionV3 model without the top layer\n",
        "base_modelv3 = InceptionV3(weights='imagenet', include_top=False, input_shape=(224,224,3))\n"
      ],
      "metadata": {
        "colab": {
          "base_uri": "https://localhost:8080/"
        },
        "id": "i828JktIQaFX",
        "outputId": "d3cab6ee-852a-46b3-ec7c-7fd437163fc5"
      },
      "execution_count": 8,
      "outputs": [
        {
          "output_type": "stream",
          "name": "stdout",
          "text": [
            "Downloading data from https://storage.googleapis.com/tensorflow/keras-applications/inception_v3/inception_v3_weights_tf_dim_ordering_tf_kernels_notop.h5\n",
            "87910968/87910968 [==============================] - 1s 0us/step\n"
          ]
        }
      ]
    },
    {
      "cell_type": "code",
      "source": [
        "x = base_modelv3.output\n",
        "x = GlobalAveragePooling2D()(x)\n",
        "x = Dense(512, activation='relu')(x)\n",
        "x = Dropout(0.2)(x)\n",
        "predictions1 = Dense(8, activation='softmax')(x)\n"
      ],
      "metadata": {
        "id": "cLtcllTxQcBf"
      },
      "execution_count": 9,
      "outputs": []
    },
    {
      "cell_type": "code",
      "source": [
        "modelv3 = Model(inputs=base_modelv3.input, outputs=predictions1)"
      ],
      "metadata": {
        "id": "JKvvPDXiQfcw"
      },
      "execution_count": 10,
      "outputs": []
    },
    {
      "cell_type": "code",
      "source": [
        "for layer in base_modelv3.layers[:1]:\n",
        "    layer.trainable = False\n"
      ],
      "metadata": {
        "id": "fMYzCdW8QhS4"
      },
      "execution_count": 11,
      "outputs": []
    },
    {
      "cell_type": "code",
      "source": [
        "modelv3.compile(optimizer='sgd', loss='categorical_crossentropy', metrics=['accuracy'])"
      ],
      "metadata": {
        "id": "di_SvCjAQjOw"
      },
      "execution_count": 12,
      "outputs": []
    },
    {
      "cell_type": "code",
      "source": [
        "historyv3 = modelv3.fit(x=train_image_gen,\n",
        "                      epochs=30,\n",
        "                      validation_data=val_image_gen)\n"
      ],
      "metadata": {
        "colab": {
          "base_uri": "https://localhost:8080/"
        },
        "id": "xlPA7a-jQk7j",
        "outputId": "b62c72ce-0a9b-4320-cda9-7364283c54ca"
      },
      "execution_count": 13,
      "outputs": [
        {
          "output_type": "stream",
          "name": "stdout",
          "text": [
            "Epoch 1/30\n",
            "161/161 [==============================] - 1343s 8s/step - loss: 0.8615 - accuracy: 0.7104 - val_loss: 0.4312 - val_accuracy: 0.8230\n",
            "Epoch 2/30\n",
            "161/161 [==============================] - 114s 708ms/step - loss: 0.2831 - accuracy: 0.8993 - val_loss: 0.2309 - val_accuracy: 0.9193\n",
            "Epoch 3/30\n",
            "161/161 [==============================] - 114s 708ms/step - loss: 0.1915 - accuracy: 0.9342 - val_loss: 0.2072 - val_accuracy: 0.9301\n",
            "Epoch 4/30\n",
            "161/161 [==============================] - 113s 704ms/step - loss: 0.1382 - accuracy: 0.9534 - val_loss: 0.1643 - val_accuracy: 0.9394\n",
            "Epoch 5/30\n",
            "161/161 [==============================] - 113s 704ms/step - loss: 0.1053 - accuracy: 0.9643 - val_loss: 0.1932 - val_accuracy: 0.9286\n",
            "Epoch 6/30\n",
            "161/161 [==============================] - 122s 756ms/step - loss: 0.0918 - accuracy: 0.9711 - val_loss: 0.1681 - val_accuracy: 0.9410\n",
            "Epoch 7/30\n",
            "161/161 [==============================] - 115s 713ms/step - loss: 0.0695 - accuracy: 0.9777 - val_loss: 0.1833 - val_accuracy: 0.9441\n",
            "Epoch 8/30\n",
            "161/161 [==============================] - 116s 719ms/step - loss: 0.0577 - accuracy: 0.9821 - val_loss: 0.1533 - val_accuracy: 0.9503\n",
            "Epoch 9/30\n",
            "161/161 [==============================] - 123s 765ms/step - loss: 0.0449 - accuracy: 0.9854 - val_loss: 0.1663 - val_accuracy: 0.9488\n",
            "Epoch 10/30\n",
            "161/161 [==============================] - 114s 707ms/step - loss: 0.0374 - accuracy: 0.9872 - val_loss: 0.1361 - val_accuracy: 0.9550\n",
            "Epoch 11/30\n",
            "161/161 [==============================] - 115s 712ms/step - loss: 0.0272 - accuracy: 0.9915 - val_loss: 0.1757 - val_accuracy: 0.9472\n",
            "Epoch 12/30\n",
            "161/161 [==============================] - 115s 713ms/step - loss: 0.0294 - accuracy: 0.9917 - val_loss: 0.1659 - val_accuracy: 0.9503\n",
            "Epoch 13/30\n",
            "161/161 [==============================] - 114s 708ms/step - loss: 0.0258 - accuracy: 0.9909 - val_loss: 0.1948 - val_accuracy: 0.9441\n",
            "Epoch 14/30\n",
            "161/161 [==============================] - 122s 759ms/step - loss: 0.0206 - accuracy: 0.9934 - val_loss: 0.1577 - val_accuracy: 0.9581\n",
            "Epoch 15/30\n",
            "161/161 [==============================] - 114s 708ms/step - loss: 0.0193 - accuracy: 0.9942 - val_loss: 0.1572 - val_accuracy: 0.9596\n",
            "Epoch 16/30\n",
            "161/161 [==============================] - 114s 705ms/step - loss: 0.0209 - accuracy: 0.9930 - val_loss: 0.1423 - val_accuracy: 0.9534\n",
            "Epoch 17/30\n",
            "161/161 [==============================] - 114s 708ms/step - loss: 0.0213 - accuracy: 0.9932 - val_loss: 0.1590 - val_accuracy: 0.9503\n",
            "Epoch 18/30\n",
            "161/161 [==============================] - 114s 707ms/step - loss: 0.0178 - accuracy: 0.9948 - val_loss: 0.1807 - val_accuracy: 0.9565\n",
            "Epoch 19/30\n",
            "161/161 [==============================] - 114s 708ms/step - loss: 0.0170 - accuracy: 0.9942 - val_loss: 0.1769 - val_accuracy: 0.9503\n",
            "Epoch 20/30\n",
            "161/161 [==============================] - 113s 699ms/step - loss: 0.0180 - accuracy: 0.9951 - val_loss: 0.2134 - val_accuracy: 0.9534\n",
            "Epoch 21/30\n",
            "161/161 [==============================] - 122s 757ms/step - loss: 0.0135 - accuracy: 0.9971 - val_loss: 0.1663 - val_accuracy: 0.9596\n",
            "Epoch 22/30\n",
            "161/161 [==============================] - 113s 704ms/step - loss: 0.0185 - accuracy: 0.9953 - val_loss: 0.1715 - val_accuracy: 0.9581\n",
            "Epoch 23/30\n",
            "161/161 [==============================] - 126s 783ms/step - loss: 0.0155 - accuracy: 0.9963 - val_loss: 0.1597 - val_accuracy: 0.9643\n",
            "Epoch 24/30\n",
            "161/161 [==============================] - 141s 868ms/step - loss: 0.0132 - accuracy: 0.9959 - val_loss: 0.1671 - val_accuracy: 0.9612\n",
            "Epoch 25/30\n",
            "161/161 [==============================] - 127s 787ms/step - loss: 0.0128 - accuracy: 0.9963 - val_loss: 0.1661 - val_accuracy: 0.9612\n",
            "Epoch 26/30\n",
            "161/161 [==============================] - 114s 709ms/step - loss: 0.0112 - accuracy: 0.9969 - val_loss: 0.1576 - val_accuracy: 0.9534\n",
            "Epoch 27/30\n",
            "161/161 [==============================] - 114s 707ms/step - loss: 0.0098 - accuracy: 0.9977 - val_loss: 0.1470 - val_accuracy: 0.9627\n",
            "Epoch 28/30\n",
            "161/161 [==============================] - 113s 704ms/step - loss: 0.0086 - accuracy: 0.9971 - val_loss: 0.1979 - val_accuracy: 0.9581\n",
            "Epoch 29/30\n",
            "161/161 [==============================] - 114s 706ms/step - loss: 0.0096 - accuracy: 0.9969 - val_loss: 0.1642 - val_accuracy: 0.9596\n",
            "Epoch 30/30\n",
            "161/161 [==============================] - 122s 758ms/step - loss: 0.0069 - accuracy: 0.9983 - val_loss: 0.1517 - val_accuracy: 0.9581\n"
          ]
        }
      ]
    },
    {
      "cell_type": "code",
      "source": [
        "test_historyv3 = modelv3.evaluate(x=test_image_gen)"
      ],
      "metadata": {
        "colab": {
          "base_uri": "https://localhost:8080/"
        },
        "id": "LbEXKMlQQnPQ",
        "outputId": "884548c2-39cc-4c98-efa1-87e8bd894b68"
      },
      "execution_count": 14,
      "outputs": [
        {
          "output_type": "stream",
          "name": "stdout",
          "text": [
            "21/21 [==============================] - 166s 8s/step - loss: 0.1402 - accuracy: 0.9752\n"
          ]
        }
      ]
    },
    {
      "cell_type": "code",
      "source": [
        "print(historyv3.history.keys())\n",
        "#  \"Accuracy\"\n",
        "plt.plot(historyv3.history['accuracy'])\n",
        "plt.plot(historyv3.history['val_accuracy'])\n",
        "plt.title('model accuracy')\n",
        "plt.ylabel('accuracy')\n",
        "plt.xlabel('epoch')\n",
        "plt.legend(['train', 'validation'], loc='upper left')\n",
        "plt.show()\n",
        "# \"Loss\"\n",
        "plt.plot(historyv3.history['loss'])\n",
        "plt.plot(historyv3.history['val_loss'])\n",
        "plt.title('model loss')\n",
        "plt.ylabel('loss')\n",
        "plt.xlabel('epoch')\n",
        "plt.legend(['train', 'validation'], loc='upper left')\n",
        "plt.show()"
      ],
      "metadata": {
        "colab": {
          "base_uri": "https://localhost:8080/",
          "height": 945
        },
        "id": "bcpzgbT_XIeJ",
        "outputId": "5e47d3b9-209b-430b-c61d-8cbab77bd03d"
      },
      "execution_count": 15,
      "outputs": [
        {
          "output_type": "stream",
          "name": "stdout",
          "text": [
            "dict_keys(['loss', 'accuracy', 'val_loss', 'val_accuracy'])\n"
          ]
        },
        {
          "output_type": "display_data",
          "data": {
            "text/plain": [
              "<Figure size 640x480 with 1 Axes>"
            ],
            "image/png": "[encoded data removed]"
          },
          "metadata": {}
        },
        {
          "output_type": "display_data",
          "data": {
            "text/plain": [
              "<Figure size 640x480 with 1 Axes>"
            ],
            "image/png": "[encoded data removed]"
          },
          "metadata": {}
        }
      ]
    },
    {
      "cell_type": "code",
      "source": [
        "modelv3.save('/content/drive/MyDrive/Colab Notebooks/Endo-inception97.h5')"
      ],
      "metadata": {
        "id": "X_6By6p-WpZk"
      },
      "execution_count": 17,
      "outputs": []
    }
  ]
}