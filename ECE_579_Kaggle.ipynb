{
  "nbformat": 4,
  "nbformat_minor": 0,
  "metadata": {
    "colab": {
      "provenance": []
    },
    "kernelspec": {
      "name": "python3",
      "display_name": "Python 3"
    },
    "language_info": {
      "name": "python"
    }
  },
  "cells": [
    {
      "cell_type": "code",
      "execution_count": null,
      "metadata": {
        "id": "2bVZus1J0-qx"
      },
      "outputs": [],
      "source": [
        "import os\n",
        "import random\n",
        "import numpy as np\n",
        "import tensorflow as tf\n",
        "from tensorflow.keras.preprocessing.image import ImageDataGenerator\n",
        "import pandas as pd\n",
        "import matplotlib.pyplot as plt"
      ]
    },
    {
      "cell_type": "code",
      "source": [
        "train = '/content/drive/MyDrive/Colab Notebooks/output/train'\n",
        "test = '/content/drive/MyDrive/Colab Notebooks/output/test'\n",
        "val = '/content/drive/MyDrive/Colab Notebooks/output/val'"
      ],
      "metadata": {
        "id": "pOggnH-e1PPT"
      },
      "execution_count": null,
      "outputs": []
    },
    {
      "cell_type": "code",
      "source": [
        "from tensorflow.keras.preprocessing.image import ImageDataGenerator\n",
        "image_shape = (224,224,3)\n",
        "image_gen = ImageDataGenerator(rotation_range=20,\n",
        "                               rescale=1/255,\n",
        "                               horizontal_flip=True,\n",
        "                               fill_mode='nearest'\n",
        "                              )\n"
      ],
      "metadata": {
        "id": "ZK6u9hVX1QxX"
      },
      "execution_count": null,
      "outputs": []
    },
    {
      "cell_type": "code",
      "source": [
        "image_gen.flow_from_directory(train)\n",
        "image_gen.flow_from_directory(test)\n",
        "image_gen.flow_from_directory(val)"
      ],
      "metadata": {
        "id": "2dCtONA21SOT"
      },
      "execution_count": null,
      "outputs": []
    },
    {
      "cell_type": "code",
      "source": [
        "train_image_gen = image_gen.flow_from_directory(train,\n",
        "                                               target_size=image_shape[:2],\n",
        "                                               color_mode='rgb',\n",
        "                                               batch_size=32,\n",
        "                                               class_mode='categorical')\n",
        "\n",
        "test_image_gen = image_gen.flow_from_directory(test,\n",
        "                                               target_size=image_shape[:2],\n",
        "                                               color_mode='rgb',\n",
        "                                               batch_size=32,\n",
        "                                               class_mode='categorical',shuffle=True)\n",
        "\n",
        "val_image_gen = image_gen.flow_from_directory(val,\n",
        "                                               target_size=image_shape[:2],\n",
        "                                               color_mode='rgb',\n",
        "                                               batch_size=32,\n",
        "                                               class_mode='categorical',shuffle=False)"
      ],
      "metadata": {
        "id": "-zDcGfVv1Umh"
      },
      "execution_count": null,
      "outputs": []
    },
    {
      "cell_type": "code",
      "source": [
        "train_image_gen.class_indices"
      ],
      "metadata": {
        "id": "_-iqz56z1WiT"
      },
      "execution_count": null,
      "outputs": []
    },
    {
      "cell_type": "markdown",
      "source": [
        "## INCEPTIONV3"
      ],
      "metadata": {
        "id": "OgXRoZJJ1trR"
      }
    },
    {
      "cell_type": "code",
      "source": [
        "from tensorflow.keras.applications.inception_v3 import InceptionV3\n",
        "from tensorflow.keras.layers import Dense, Dropout, GlobalAveragePooling2D\n",
        "from tensorflow.keras.models import Model\n",
        "from tensorflow.keras.optimizers import SGD"
      ],
      "metadata": {
        "id": "Y75hgxj91aa4"
      },
      "execution_count": null,
      "outputs": []
    },
    {
      "cell_type": "code",
      "source": [
        "# Load the pre-trained InceptionV3 model without the top layer\n",
        "base_modelv3 = InceptionV3(weights='imagenet', include_top=False, input_shape=(224,224,3))\n"
      ],
      "metadata": {
        "id": "eO3yLzrN1cbi"
      },
      "execution_count": null,
      "outputs": []
    },
    {
      "cell_type": "code",
      "source": [
        "x = base_modelv3.output\n",
        "x = GlobalAveragePooling2D()(x)\n",
        "x = Dense(512, activation='relu')(x)\n",
        "x = Dropout(0.2)(x)\n",
        "predictions1 = Dense(8, activation='softmax')(x)\n"
      ],
      "metadata": {
        "id": "AkUsHvNk1eWR"
      },
      "execution_count": null,
      "outputs": []
    },
    {
      "cell_type": "code",
      "source": [
        "modelv3 = Model(inputs=base_modelv3.input, outputs=predictions1)"
      ],
      "metadata": {
        "id": "iSuHG7r81gAC"
      },
      "execution_count": null,
      "outputs": []
    },
    {
      "cell_type": "code",
      "source": [
        "for layer in base_modelv3.layers[:1]:\n",
        "    layer.trainable = False\n"
      ],
      "metadata": {
        "id": "AYQ1UVYf1hpv"
      },
      "execution_count": null,
      "outputs": []
    },
    {
      "cell_type": "code",
      "source": [
        "modelv3.compile(optimizer='sgd', loss='categorical_crossentropy', metrics=['accuracy'])"
      ],
      "metadata": {
        "id": "yZYvq4Zd1joS"
      },
      "execution_count": null,
      "outputs": []
    },
    {
      "cell_type": "code",
      "source": [
        "historyv3 = modelv3.fit(x=train_image_gen,\n",
        "                      epochs=30,\n",
        "                      validation_data=val_image_gen)\n"
      ],
      "metadata": {
        "id": "0JBcae461lB4"
      },
      "execution_count": null,
      "outputs": []
    },
    {
      "cell_type": "code",
      "source": [
        "test_historyv3 = modelv3.evaluate(x=test_image_gen)"
      ],
      "metadata": {
        "id": "n2B8sfxS1nL_"
      },
      "execution_count": null,
      "outputs": []
    },
    {
      "cell_type": "code",
      "source": [
        "print(historyv3.history.keys())\n",
        "#  \"Accuracy\"\n",
        "plt.plot(historyv3.history['accuracy'])\n",
        "plt.plot(historyv3.history['val_accuracy'])\n",
        "plt.title('model accuracy')\n",
        "plt.ylabel('accuracy')\n",
        "plt.xlabel('epoch')\n",
        "plt.legend(['train', 'validation'], loc='upper left')\n",
        "plt.show()\n",
        "# \"Loss\"\n",
        "plt.plot(historyv3.history['loss'])\n",
        "plt.plot(historyv3.history['val_loss'])\n",
        "plt.title('model loss')\n",
        "plt.ylabel('loss')\n",
        "plt.xlabel('epoch')\n",
        "plt.legend(['train', 'validation'], loc='upper left')\n",
        "plt.show()"
      ],
      "metadata": {
        "id": "h_E10B8B1ooA"
      },
      "execution_count": null,
      "outputs": []
    },
    {
      "cell_type": "code",
      "source": [
        "modelv3.save('/content/drive/MyDrive/Colab Notebooks/Endo-inception97.h5')"
      ],
      "metadata": {
        "id": "YVROnUJ41q0R"
      },
      "execution_count": null,
      "outputs": []
    },
    {
      "cell_type": "markdown",
      "source": [
        "## DENSENET121\n"
      ],
      "metadata": {
        "id": "-TAe8mvK186G"
      }
    },
    {
      "cell_type": "code",
      "source": [
        "from tensorflow.keras.layers import Dense, GlobalAveragePooling2D, Dropout\n",
        "from tensorflow.keras.models import Model\n",
        "from tensorflow.keras.applications.densenet import DenseNet121\n"
      ],
      "metadata": {
        "id": "2TPAlNMX11gh"
      },
      "execution_count": null,
      "outputs": []
    },
    {
      "cell_type": "code",
      "source": [
        "# Define the number of classes\n",
        "num_classes = len(train_image_gen.class_indices)\n",
        "\n",
        "# Load the pre-trained model\n",
        "base_model = DenseNet121(weights='imagenet', include_top=False, input_shape=(224,224,3))\n",
        "\n"
      ],
      "metadata": {
        "id": "MD48Vh3T2EhZ"
      },
      "execution_count": null,
      "outputs": []
    },
    {
      "cell_type": "code",
      "source": [
        "# Add a new classification layer\n",
        "x = base_model.output\n",
        "x = GlobalAveragePooling2D()(x)\n",
        "x = Dense(1024, activation='relu')(x)\n",
        "x = Dropout(0.2)(x)\n",
        "predictions = Dense(num_classes, activation='softmax')(x)\n",
        "\n"
      ],
      "metadata": {
        "id": "fwqORWtV2F63"
      },
      "execution_count": null,
      "outputs": []
    },
    {
      "cell_type": "code",
      "source": [
        "# Create the final model\n",
        "dense_model = Model(inputs=base_model.input, outputs=predictions)"
      ],
      "metadata": {
        "id": "wUbcS4ug2Hqn"
      },
      "execution_count": null,
      "outputs": []
    },
    {
      "cell_type": "code",
      "source": [
        "# Compile the model\n",
        "dense_model.compile(optimizer='sgd', loss='categorical_crossentropy', metrics=['accuracy'])\n",
        "\n",
        "# Train the model\n",
        "historyd = dense_model.fit(train_image_gen, epochs=30, validation_data=val_image_gen)\n",
        "\n"
      ],
      "metadata": {
        "id": "FOYa1xI82I-v"
      },
      "execution_count": null,
      "outputs": []
    },
    {
      "cell_type": "code",
      "source": [
        "test_historyd = dense_model.evaluate(x=test_image_gen)"
      ],
      "metadata": {
        "id": "DHpsWJew2KxQ"
      },
      "execution_count": null,
      "outputs": []
    },
    {
      "cell_type": "code",
      "source": [
        "print(historyd.history.keys())\n",
        "#  \"Accuracy\"\n",
        "plt.plot(historyd.history['accuracy'])\n",
        "plt.plot(historyd.history['val_accuracy'])\n",
        "plt.title('model accuracy')\n",
        "plt.ylabel('accuracy')\n",
        "plt.xlabel('epoch')\n",
        "plt.legend(['train', 'validation'], loc='upper left')\n",
        "plt.show()\n",
        "# \"Loss\"\n",
        "plt.plot(historyd.history['loss'])\n",
        "plt.plot(historyd.history['val_loss'])\n",
        "plt.title('model loss')\n",
        "plt.ylabel('loss')\n",
        "plt.xlabel('epoch')\n",
        "plt.legend(['train', 'validation'], loc='upper left')\n",
        "plt.show()"
      ],
      "metadata": {
        "id": "YUYL-_aq2MWO"
      },
      "execution_count": null,
      "outputs": []
    },
    {
      "cell_type": "code",
      "source": [
        "dense_model.save('/content/drive/MyDrive/Colab Notebooks/Endo-DenseNet97.h5')"
      ],
      "metadata": {
        "id": "h4t2r8XZ2OSf"
      },
      "execution_count": null,
      "outputs": []
    },
    {
      "cell_type": "markdown",
      "source": [
        "## VGG-16"
      ],
      "metadata": {
        "id": "A9oF2nEp2QJH"
      }
    },
    {
      "cell_type": "code",
      "source": [
        "from tensorflow.keras.applications import VGG16"
      ],
      "metadata": {
        "id": "JufS2U5A2Sa2"
      },
      "execution_count": null,
      "outputs": []
    },
    {
      "cell_type": "code",
      "source": [
        "basic_vgg = VGG16(input_shape=(224,224,3),\n",
        "                 include_top=False,\n",
        "                 weights='imagenet')\n",
        "\n"
      ],
      "metadata": {
        "id": "hgwArmHP2VAx"
      },
      "execution_count": null,
      "outputs": []
    },
    {
      "cell_type": "code",
      "source": [
        "import matplotlib.pyplot as plt\n",
        "from tensorflow.keras.models import Sequential\n",
        "from tensorflow.keras.layers import Dense,Conv2D,MaxPool2D,Flatten,Dropout"
      ],
      "metadata": {
        "id": "UomTuxnx2Xyj"
      },
      "execution_count": null,
      "outputs": []
    },
    {
      "cell_type": "code",
      "source": [
        "x=Flatten()(basic_vgg.output)\n",
        "x=Dense(512,activation='relu')(x)\n",
        "x=Dropout(0.3)(x)\n",
        "x=Dense(8,activation='softmax')(x)"
      ],
      "metadata": {
        "id": "zKeqF2Ut2ZeW"
      },
      "execution_count": null,
      "outputs": []
    },
    {
      "cell_type": "code",
      "source": [
        "modelvgg =tf.keras.Model(basic_vgg.input,x)\n",
        "modelvgg.compile(optimizer='sgd',loss='categorical_crossentropy',metrics=['accuracy'])"
      ],
      "metadata": {
        "id": "a7H9RIRv2a89"
      },
      "execution_count": null,
      "outputs": []
    },
    {
      "cell_type": "code",
      "source": [
        "historyvgg = modelvgg.fit(x=train_image_gen,\n",
        "                      epochs=25,\n",
        "                      validation_data=val_image_gen)\n"
      ],
      "metadata": {
        "id": "drJPMGDs2cRF"
      },
      "execution_count": null,
      "outputs": []
    },
    {
      "cell_type": "code",
      "source": [
        "test_metrics = modelvgg.evaluate(x=test_image_gen)"
      ],
      "metadata": {
        "id": "IJsWDH4v2eAN"
      },
      "execution_count": null,
      "outputs": []
    },
    {
      "cell_type": "code",
      "source": [
        "# Print test set loss and accuracy\n",
        "print(\"Test Loss:\", test_metrics[0])\n",
        "print(\"Test Accuracy:\", test_metrics[1])\n"
      ],
      "metadata": {
        "id": "wa6Rsjia2mfg"
      },
      "execution_count": null,
      "outputs": []
    },
    {
      "cell_type": "code",
      "source": [
        "# Plot \"Accuracy\"\n",
        "plt.plot(history_vgg.history['accuracy'])\n",
        "plt.plot(history_vgg.history['val_accuracy'])\n",
        "plt.title('Model Accuracy Over Epochs (VGG16)')\n",
        "plt.xlabel('Epoch')\n",
        "plt.ylabel('Accuracy')\n",
        "plt.legend(['Train', 'Validation'], loc='upper left')\n",
        "plt.show()\n",
        "\n",
        "# Plot \"Loss\"\n",
        "plt.plot(history_vgg.history['loss'])\n",
        "plt.plot(history_vgg.history['val_loss'])\n",
        "plt.title('Model Loss Over Epochs (VGG16)')\n",
        "plt.xlabel('Epoch')\n",
        "plt.ylabel('Loss')\n",
        "plt.legend(['Train', 'Validation'], loc='upper left')\n",
        "plt.show()"
      ],
      "metadata": {
        "id": "ORANK_sC2pCN"
      },
      "execution_count": null,
      "outputs": []
    }
  ]
}